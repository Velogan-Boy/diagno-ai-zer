{
 "cells": [
  {
   "cell_type": "markdown",
   "metadata": {},
   "source": [
    "# Disease Prediction using Machine Learning Algorithms"
   ]
  },
  {
   "cell_type": "markdown",
   "metadata": {},
   "source": [
    "### Importing Libraries"
   ]
  },
  {
   "cell_type": "code",
   "execution_count": 233,
   "metadata": {},
   "outputs": [],
   "source": [
    "import pandas as pd\n",
    "import numpy as np\n",
    "import seaborn as sns\n",
    "import matplotlib.pyplot as plt\n",
    "from sklearn.preprocessing import LabelEncoder\n",
    "from sklearn.ensemble import RandomForestClassifier\n",
    "from sklearn.tree import DecisionTreeClassifier\n",
    "from sklearn.neighbors import KNeighborsClassifier\n",
    "from sklearn.naive_bayes import GaussianNB\n",
    "from sklearn.metrics import accuracy_score"
   ]
  },
  {
   "cell_type": "markdown",
   "metadata": {},
   "source": [
    "### Loading Data"
   ]
  },
  {
   "cell_type": "code",
   "execution_count": 234,
   "metadata": {},
   "outputs": [
    {
     "data": {
      "text/html": [
       "<div>\n",
       "<style scoped>\n",
       "    .dataframe tbody tr th:only-of-type {\n",
       "        vertical-align: middle;\n",
       "    }\n",
       "\n",
       "    .dataframe tbody tr th {\n",
       "        vertical-align: top;\n",
       "    }\n",
       "\n",
       "    .dataframe thead th {\n",
       "        text-align: right;\n",
       "    }\n",
       "</style>\n",
       "<table border=\"1\" class=\"dataframe\">\n",
       "  <thead>\n",
       "    <tr style=\"text-align: right;\">\n",
       "      <th></th>\n",
       "      <th>itching</th>\n",
       "      <th>skin_rash</th>\n",
       "      <th>nodal_skin_eruptions</th>\n",
       "      <th>continuous_sneezing</th>\n",
       "      <th>shivering</th>\n",
       "      <th>chills</th>\n",
       "      <th>joint_pain</th>\n",
       "      <th>stomach_pain</th>\n",
       "      <th>acidity</th>\n",
       "      <th>ulcers_on_tongue</th>\n",
       "      <th>...</th>\n",
       "      <th>scurring</th>\n",
       "      <th>skin_peeling</th>\n",
       "      <th>silver_like_dusting</th>\n",
       "      <th>small_dents_in_nails</th>\n",
       "      <th>inflammatory_nails</th>\n",
       "      <th>blister</th>\n",
       "      <th>red_sore_around_nose</th>\n",
       "      <th>yellow_crust_ooze</th>\n",
       "      <th>prognosis</th>\n",
       "      <th>Unnamed: 133</th>\n",
       "    </tr>\n",
       "  </thead>\n",
       "  <tbody>\n",
       "    <tr>\n",
       "      <th>0</th>\n",
       "      <td>1</td>\n",
       "      <td>1</td>\n",
       "      <td>1</td>\n",
       "      <td>0</td>\n",
       "      <td>0</td>\n",
       "      <td>0</td>\n",
       "      <td>0</td>\n",
       "      <td>0</td>\n",
       "      <td>0</td>\n",
       "      <td>0</td>\n",
       "      <td>...</td>\n",
       "      <td>0</td>\n",
       "      <td>0</td>\n",
       "      <td>0</td>\n",
       "      <td>0</td>\n",
       "      <td>0</td>\n",
       "      <td>0</td>\n",
       "      <td>0</td>\n",
       "      <td>0</td>\n",
       "      <td>Fungal infection</td>\n",
       "      <td>NaN</td>\n",
       "    </tr>\n",
       "    <tr>\n",
       "      <th>1</th>\n",
       "      <td>0</td>\n",
       "      <td>1</td>\n",
       "      <td>1</td>\n",
       "      <td>0</td>\n",
       "      <td>0</td>\n",
       "      <td>0</td>\n",
       "      <td>0</td>\n",
       "      <td>0</td>\n",
       "      <td>0</td>\n",
       "      <td>0</td>\n",
       "      <td>...</td>\n",
       "      <td>0</td>\n",
       "      <td>0</td>\n",
       "      <td>0</td>\n",
       "      <td>0</td>\n",
       "      <td>0</td>\n",
       "      <td>0</td>\n",
       "      <td>0</td>\n",
       "      <td>0</td>\n",
       "      <td>Fungal infection</td>\n",
       "      <td>NaN</td>\n",
       "    </tr>\n",
       "    <tr>\n",
       "      <th>2</th>\n",
       "      <td>1</td>\n",
       "      <td>0</td>\n",
       "      <td>1</td>\n",
       "      <td>0</td>\n",
       "      <td>0</td>\n",
       "      <td>0</td>\n",
       "      <td>0</td>\n",
       "      <td>0</td>\n",
       "      <td>0</td>\n",
       "      <td>0</td>\n",
       "      <td>...</td>\n",
       "      <td>0</td>\n",
       "      <td>0</td>\n",
       "      <td>0</td>\n",
       "      <td>0</td>\n",
       "      <td>0</td>\n",
       "      <td>0</td>\n",
       "      <td>0</td>\n",
       "      <td>0</td>\n",
       "      <td>Fungal infection</td>\n",
       "      <td>NaN</td>\n",
       "    </tr>\n",
       "    <tr>\n",
       "      <th>3</th>\n",
       "      <td>1</td>\n",
       "      <td>1</td>\n",
       "      <td>0</td>\n",
       "      <td>0</td>\n",
       "      <td>0</td>\n",
       "      <td>0</td>\n",
       "      <td>0</td>\n",
       "      <td>0</td>\n",
       "      <td>0</td>\n",
       "      <td>0</td>\n",
       "      <td>...</td>\n",
       "      <td>0</td>\n",
       "      <td>0</td>\n",
       "      <td>0</td>\n",
       "      <td>0</td>\n",
       "      <td>0</td>\n",
       "      <td>0</td>\n",
       "      <td>0</td>\n",
       "      <td>0</td>\n",
       "      <td>Fungal infection</td>\n",
       "      <td>NaN</td>\n",
       "    </tr>\n",
       "    <tr>\n",
       "      <th>4</th>\n",
       "      <td>1</td>\n",
       "      <td>1</td>\n",
       "      <td>1</td>\n",
       "      <td>0</td>\n",
       "      <td>0</td>\n",
       "      <td>0</td>\n",
       "      <td>0</td>\n",
       "      <td>0</td>\n",
       "      <td>0</td>\n",
       "      <td>0</td>\n",
       "      <td>...</td>\n",
       "      <td>0</td>\n",
       "      <td>0</td>\n",
       "      <td>0</td>\n",
       "      <td>0</td>\n",
       "      <td>0</td>\n",
       "      <td>0</td>\n",
       "      <td>0</td>\n",
       "      <td>0</td>\n",
       "      <td>Fungal infection</td>\n",
       "      <td>NaN</td>\n",
       "    </tr>\n",
       "  </tbody>\n",
       "</table>\n",
       "<p>5 rows × 134 columns</p>\n",
       "</div>"
      ],
      "text/plain": [
       "   itching  skin_rash  nodal_skin_eruptions  continuous_sneezing  shivering  \\\n",
       "0        1          1                     1                    0          0   \n",
       "1        0          1                     1                    0          0   \n",
       "2        1          0                     1                    0          0   \n",
       "3        1          1                     0                    0          0   \n",
       "4        1          1                     1                    0          0   \n",
       "\n",
       "   chills  joint_pain  stomach_pain  acidity  ulcers_on_tongue  ...  scurring  \\\n",
       "0       0           0             0        0                 0  ...         0   \n",
       "1       0           0             0        0                 0  ...         0   \n",
       "2       0           0             0        0                 0  ...         0   \n",
       "3       0           0             0        0                 0  ...         0   \n",
       "4       0           0             0        0                 0  ...         0   \n",
       "\n",
       "   skin_peeling  silver_like_dusting  small_dents_in_nails  \\\n",
       "0             0                    0                     0   \n",
       "1             0                    0                     0   \n",
       "2             0                    0                     0   \n",
       "3             0                    0                     0   \n",
       "4             0                    0                     0   \n",
       "\n",
       "   inflammatory_nails  blister  red_sore_around_nose  yellow_crust_ooze  \\\n",
       "0                   0        0                     0                  0   \n",
       "1                   0        0                     0                  0   \n",
       "2                   0        0                     0                  0   \n",
       "3                   0        0                     0                  0   \n",
       "4                   0        0                     0                  0   \n",
       "\n",
       "          prognosis  Unnamed: 133  \n",
       "0  Fungal infection           NaN  \n",
       "1  Fungal infection           NaN  \n",
       "2  Fungal infection           NaN  \n",
       "3  Fungal infection           NaN  \n",
       "4  Fungal infection           NaN  \n",
       "\n",
       "[5 rows x 134 columns]"
      ]
     },
     "execution_count": 234,
     "metadata": {},
     "output_type": "execute_result"
    }
   ],
   "source": [
    "test=pd.read_csv(\"../data/test_data.csv\")\n",
    "train=pd.read_csv(\"../data/training_data.csv\")\n",
    "\n",
    "train.head()\n"
   ]
  },
  {
   "cell_type": "markdown",
   "metadata": {},
   "source": [
    "### Data Preprocessing"
   ]
  },
  {
   "cell_type": "markdown",
   "metadata": {},
   "source": [
    "##### Handling Missing data"
   ]
  },
  {
   "cell_type": "code",
   "execution_count": 235,
   "metadata": {},
   "outputs": [],
   "source": [
    "train=train.drop('Unnamed: 133',axis=1)"
   ]
  },
  {
   "cell_type": "code",
   "execution_count": 236,
   "metadata": {},
   "outputs": [],
   "source": [
    "le = LabelEncoder()\n",
    "train['prognosis'] = le.fit_transform(train['prognosis'])\n",
    "\n",
    "test['prognosis'] = le.fit_transform(test['prognosis'])\n"
   ]
  },
  {
   "cell_type": "markdown",
   "metadata": {},
   "source": [
    "### List of Symptoms"
   ]
  },
  {
   "cell_type": "code",
   "execution_count": 237,
   "metadata": {},
   "outputs": [
    {
     "data": {
      "text/plain": [
       "['itching',\n",
       " 'skin_rash',\n",
       " 'nodal_skin_eruptions',\n",
       " 'continuous_sneezing',\n",
       " 'shivering',\n",
       " 'chills',\n",
       " 'joint_pain',\n",
       " 'stomach_pain',\n",
       " 'acidity',\n",
       " 'ulcers_on_tongue',\n",
       " 'muscle_wasting',\n",
       " 'vomiting',\n",
       " 'burning_micturition',\n",
       " 'spotting_ urination',\n",
       " 'fatigue',\n",
       " 'weight_gain',\n",
       " 'anxiety',\n",
       " 'cold_hands_and_feets',\n",
       " 'mood_swings',\n",
       " 'weight_loss',\n",
       " 'restlessness',\n",
       " 'lethargy',\n",
       " 'patches_in_throat',\n",
       " 'irregular_sugar_level',\n",
       " 'cough',\n",
       " 'high_fever',\n",
       " 'sunken_eyes',\n",
       " 'breathlessness',\n",
       " 'sweating',\n",
       " 'dehydration',\n",
       " 'indigestion',\n",
       " 'headache',\n",
       " 'yellowish_skin',\n",
       " 'dark_urine',\n",
       " 'nausea',\n",
       " 'loss_of_appetite',\n",
       " 'pain_behind_the_eyes',\n",
       " 'back_pain',\n",
       " 'constipation',\n",
       " 'abdominal_pain',\n",
       " 'diarrhoea',\n",
       " 'mild_fever',\n",
       " 'yellow_urine',\n",
       " 'yellowing_of_eyes',\n",
       " 'acute_liver_failure',\n",
       " 'fluid_overload',\n",
       " 'swelling_of_stomach',\n",
       " 'swelled_lymph_nodes',\n",
       " 'malaise',\n",
       " 'blurred_and_distorted_vision',\n",
       " 'phlegm',\n",
       " 'throat_irritation',\n",
       " 'redness_of_eyes',\n",
       " 'sinus_pressure',\n",
       " 'runny_nose',\n",
       " 'congestion',\n",
       " 'chest_pain',\n",
       " 'weakness_in_limbs',\n",
       " 'fast_heart_rate',\n",
       " 'pain_during_bowel_movements',\n",
       " 'pain_in_anal_region',\n",
       " 'bloody_stool',\n",
       " 'irritation_in_anus',\n",
       " 'neck_pain',\n",
       " 'dizziness',\n",
       " 'cramps',\n",
       " 'bruising',\n",
       " 'obesity',\n",
       " 'swollen_legs',\n",
       " 'swollen_blood_vessels',\n",
       " 'puffy_face_and_eyes',\n",
       " 'enlarged_thyroid',\n",
       " 'brittle_nails',\n",
       " 'swollen_extremeties',\n",
       " 'excessive_hunger',\n",
       " 'extra_marital_contacts',\n",
       " 'drying_and_tingling_lips',\n",
       " 'slurred_speech',\n",
       " 'knee_pain',\n",
       " 'hip_joint_pain',\n",
       " 'muscle_weakness',\n",
       " 'stiff_neck',\n",
       " 'swelling_joints',\n",
       " 'movement_stiffness',\n",
       " 'spinning_movements',\n",
       " 'loss_of_balance',\n",
       " 'unsteadiness',\n",
       " 'weakness_of_one_body_side',\n",
       " 'loss_of_smell',\n",
       " 'bladder_discomfort',\n",
       " 'foul_smell_of urine',\n",
       " 'continuous_feel_of_urine',\n",
       " 'passage_of_gases',\n",
       " 'internal_itching',\n",
       " 'toxic_look_(typhos)',\n",
       " 'depression',\n",
       " 'irritability',\n",
       " 'muscle_pain',\n",
       " 'altered_sensorium',\n",
       " 'red_spots_over_body',\n",
       " 'belly_pain',\n",
       " 'abnormal_menstruation',\n",
       " 'dischromic _patches',\n",
       " 'watering_from_eyes',\n",
       " 'increased_appetite',\n",
       " 'polyuria',\n",
       " 'family_history',\n",
       " 'mucoid_sputum',\n",
       " 'rusty_sputum',\n",
       " 'lack_of_concentration',\n",
       " 'visual_disturbances',\n",
       " 'receiving_blood_transfusion',\n",
       " 'receiving_unsterile_injections',\n",
       " 'coma',\n",
       " 'stomach_bleeding',\n",
       " 'distention_of_abdomen',\n",
       " 'history_of_alcohol_consumption',\n",
       " 'fluid_overload.1',\n",
       " 'blood_in_sputum',\n",
       " 'prominent_veins_on_calf',\n",
       " 'palpitations',\n",
       " 'painful_walking',\n",
       " 'pus_filled_pimples',\n",
       " 'blackheads',\n",
       " 'scurring',\n",
       " 'skin_peeling',\n",
       " 'silver_like_dusting',\n",
       " 'small_dents_in_nails',\n",
       " 'inflammatory_nails',\n",
       " 'blister',\n",
       " 'red_sore_around_nose',\n",
       " 'yellow_crust_ooze',\n",
       " 'prognosis']"
      ]
     },
     "execution_count": 237,
     "metadata": {},
     "output_type": "execute_result"
    }
   ],
   "source": [
    "list(train.columns)"
   ]
  },
  {
   "cell_type": "markdown",
   "metadata": {},
   "source": [
    "### List of Diseases"
   ]
  },
  {
   "cell_type": "code",
   "execution_count": 238,
   "metadata": {},
   "outputs": [
    {
     "data": {
      "text/plain": [
       "{'(vertigo) Paroymsal  Positional Vertigo',\n",
       " 'AIDS',\n",
       " 'Acne',\n",
       " 'Alcoholic hepatitis',\n",
       " 'Allergy',\n",
       " 'Arthritis',\n",
       " 'Bronchial Asthma',\n",
       " 'Cervical spondylosis',\n",
       " 'Chicken pox',\n",
       " 'Chronic cholestasis',\n",
       " 'Common Cold',\n",
       " 'Dengue',\n",
       " 'Diabetes ',\n",
       " 'Dimorphic hemmorhoids(piles)',\n",
       " 'Drug Reaction',\n",
       " 'Fungal infection',\n",
       " 'GERD',\n",
       " 'Gastroenteritis',\n",
       " 'Heart attack',\n",
       " 'Hepatitis B',\n",
       " 'Hepatitis C',\n",
       " 'Hepatitis D',\n",
       " 'Hepatitis E',\n",
       " 'Hypertension ',\n",
       " 'Hyperthyroidism',\n",
       " 'Hypoglycemia',\n",
       " 'Hypothyroidism',\n",
       " 'Impetigo',\n",
       " 'Jaundice',\n",
       " 'Malaria',\n",
       " 'Migraine',\n",
       " 'Osteoarthristis',\n",
       " 'Paralysis (brain hemorrhage)',\n",
       " 'Peptic ulcer diseae',\n",
       " 'Pneumonia',\n",
       " 'Psoriasis',\n",
       " 'Tuberculosis',\n",
       " 'Typhoid',\n",
       " 'Urinary tract infection',\n",
       " 'Varicose veins',\n",
       " 'hepatitis A'}"
      ]
     },
     "execution_count": 238,
     "metadata": {},
     "output_type": "execute_result"
    }
   ],
   "source": [
    "y_train=train.prognosis\n",
    "x_train=train.drop('prognosis',axis=1)\n",
    "\n",
    "y_test=test.prognosis\n",
    "x_test=test.drop('prognosis',axis=1)\n",
    "\n",
    "set(list(le.inverse_transform(y_train)))\n"
   ]
  },
  {
   "cell_type": "markdown",
   "metadata": {},
   "source": [
    "### Data Plots"
   ]
  },
  {
   "cell_type": "code",
   "execution_count": 239,
   "metadata": {},
   "outputs": [
    {
     "data": {
      "text/plain": [
       "<Axes: xlabel='prognosis', ylabel='count'>"
      ]
     },
     "execution_count": 239,
     "metadata": {},
     "output_type": "execute_result"
    },
    {
     "data": {
      "image/png": "[encoded data removed]",
      "text/plain": [
       "<Figure size 2000x1000 with 1 Axes>"
      ]
     },
     "metadata": {},
     "output_type": "display_data"
    },
    {
     "data": {
      "image/png": "[encoded data removed]",
      "text/plain": [
       "<Figure size 2000x1000 with 1 Axes>"
      ]
     },
     "metadata": {},
     "output_type": "display_data"
    }
   ],
   "source": [
    "# plots for categorical data\n",
    "\n",
    "plt.figure(figsize=(20,10))\n",
    "sns.countplot(x='prognosis',data=train)\n",
    "\n",
    "plt.figure(figsize=(20,10))\n",
    "sns.countplot(x='prognosis',data=test)\n",
    "\n"
   ]
  },
  {
   "cell_type": "markdown",
   "metadata": {},
   "source": [
    "### Random Forest Classifier"
   ]
  },
  {
   "cell_type": "code",
   "execution_count": 240,
   "metadata": {},
   "outputs": [
    {
     "name": "stdout",
     "output_type": "stream",
     "text": [
      "Accuracy is:  0.9761904761904762\n"
     ]
    }
   ],
   "source": [
    "rf = RandomForestClassifier(random_state=43)      \n",
    "rf = rf.fit(x_train,y_train)\n",
    "\n",
    "ac_rf = accuracy_score(y_test,rf.predict(x_test))\n",
    "print('Accuracy is: ',ac_rf)\n"
   ]
  },
  {
   "cell_type": "code",
   "execution_count": 241,
   "metadata": {},
   "outputs": [
    {
     "name": "stderr",
     "output_type": "stream",
     "text": [
      "c:\\Users\\Hp\\Documents\\ML-Projects\\Disease-Prediction-Through-Symptoms\\env\\lib\\site-packages\\sklearn\\base.py:420: UserWarning: X does not have valid feature names, but RandomForestClassifier was fitted with feature names\n",
      "  warnings.warn(\n"
     ]
    },
    {
     "data": {
      "text/plain": [
       "array(['Allergy'], dtype=object)"
      ]
     },
     "execution_count": 241,
     "metadata": {},
     "output_type": "execute_result"
    }
   ],
   "source": [
    "def sample_predict(model,symptomps):\n",
    "\n",
    "    col=x_train.columns\n",
    "\n",
    "    inputt = symptomps.split(' ')\n",
    "\n",
    "    b=[0]*len(col)\n",
    "\n",
    "    for x in range(0,132):\n",
    "        for y in inputt:\n",
    "            if(col[x]==y):\n",
    "                b[x]=1\n",
    "    b=np.array(b)\n",
    "    b=b.reshape(1,132)\n",
    "\n",
    "    sol=model.predict(b)\n",
    "    \n",
    "    return le.inverse_transform(sol) \n",
    "    \n",
    "sample_predict(rf,\"anxiety shivering\")\n"
   ]
  },
  {
   "cell_type": "markdown",
   "metadata": {},
   "source": [
    "### Decision Tree Classifier"
   ]
  },
  {
   "cell_type": "code",
   "execution_count": 242,
   "metadata": {},
   "outputs": [
    {
     "name": "stdout",
     "output_type": "stream",
     "text": [
      "Accuracy is:  0.9761904761904762\n"
     ]
    }
   ],
   "source": [
    "dt = DecisionTreeClassifier()\n",
    "dt = dt.fit(x_train,y_train)\n",
    "\n",
    "dt_ac = accuracy_score(y_test,dt.predict(x_test)) \n",
    "\n",
    "print('Accuracy is: ',dt_ac)"
   ]
  },
  {
   "cell_type": "code",
   "execution_count": 243,
   "metadata": {},
   "outputs": [
    {
     "name": "stderr",
     "output_type": "stream",
     "text": [
      "c:\\Users\\Hp\\Documents\\ML-Projects\\Disease-Prediction-Through-Symptoms\\env\\lib\\site-packages\\sklearn\\base.py:420: UserWarning: X does not have valid feature names, but DecisionTreeClassifier was fitted with feature names\n",
      "  warnings.warn(\n"
     ]
    },
    {
     "data": {
      "text/plain": [
       "array(['Dimorphic hemmorhoids(piles)'], dtype=object)"
      ]
     },
     "execution_count": 243,
     "metadata": {},
     "output_type": "execute_result"
    }
   ],
   "source": [
    "sample_predict(dt,\"anxiety shivering\")"
   ]
  },
  {
   "cell_type": "markdown",
   "metadata": {},
   "source": [
    "### Naive Bayes Classifier"
   ]
  },
  {
   "cell_type": "code",
   "execution_count": 244,
   "metadata": {},
   "outputs": [
    {
     "name": "stdout",
     "output_type": "stream",
     "text": [
      "Accuracy is:  1.0\n"
     ]
    }
   ],
   "source": [
    "nb = GaussianNB()\n",
    "nb = nb.fit(x_train,y_train)\n",
    "\n",
    "nb_ac = accuracy_score(y_test,nb.predict(x_test)) \n",
    "\n",
    "print('Accuracy is: ',nb_ac)"
   ]
  },
  {
   "cell_type": "code",
   "execution_count": 245,
   "metadata": {},
   "outputs": [
    {
     "name": "stderr",
     "output_type": "stream",
     "text": [
      "c:\\Users\\Hp\\Documents\\ML-Projects\\Disease-Prediction-Through-Symptoms\\env\\lib\\site-packages\\sklearn\\base.py:420: UserWarning: X does not have valid feature names, but GaussianNB was fitted with feature names\n",
      "  warnings.warn(\n"
     ]
    },
    {
     "data": {
      "text/plain": [
       "array(['Allergy'], dtype=object)"
      ]
     },
     "execution_count": 245,
     "metadata": {},
     "output_type": "execute_result"
    }
   ],
   "source": [
    "sample_predict(nb,\"anxiety shivering\")\n"
   ]
  },
  {
   "cell_type": "markdown",
   "metadata": {},
   "source": [
    "### K-Nearest Neighbours Classifier"
   ]
  },
  {
   "cell_type": "code",
   "execution_count": 261,
   "metadata": {},
   "outputs": [
    {
     "name": "stdout",
     "output_type": "stream",
     "text": [
      "Accuracy is:  1.0\n"
     ]
    }
   ],
   "source": [
    "knn = KNeighborsClassifier(n_neighbors=2)\n",
    "knn = knn.fit(x_train,y_train)\n",
    "\n",
    "knn_ac = accuracy_score(y_test,knn.predict(x_test)) \n",
    "\n",
    "print('Accuracy is: ',knn_ac)\n"
   ]
  }
 ],
 "metadata": {
  "kernelspec": {
   "display_name": "Python 3.9.12 ('env': venv)",
   "language": "python",
   "name": "python3"
  },
  "language_info": {
   "codemirror_mode": {
    "name": "ipython",
    "version": 3
   },
   "file_extension": ".py",
   "mimetype": "text/x-python",
   "name": "python",
   "nbconvert_exporter": "python",
   "pygments_lexer": "ipython3",
   "version": "3.9.12"
  },
  "orig_nbformat": 4,
  "vscode": {
   "interpreter": {
    "hash": "75194a46eb40d724b1c29886f1b3f8e83706cee9d965d2ae2071128760070742"
   }
  }
 },
 "nbformat": 4,
 "nbformat_minor": 2
}
